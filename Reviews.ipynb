{
 "cells": [
  {
   "cell_type": "code",
   "execution_count": 24,
   "id": "5f22cd2d",
   "metadata": {},
   "outputs": [],
   "source": [
    "from selenium import webdriver\n",
    "from bs4 import BeautifulSoup\n",
    "from csv import writer\n",
    "from tqdm import tqdm\n",
    "from selenium.webdriver.chrome.options import Options\n",
    "from csv import writer"
   ]
  },
  {
   "cell_type": "code",
   "execution_count": 25,
   "id": "dd537a7a",
   "metadata": {},
   "outputs": [],
   "source": [
    "chrome_options= Options()\n",
    "chrome_options.add_argument(\"--disable-extensions\")\n",
    "chrome_options.add_argument(\"--disable-gpu\")\n",
    "chrome_options.add_argument(\"--no-sandbox\")\n",
    "chrome_options.add_argument(\"--headless\")"
   ]
  },
  {
   "cell_type": "code",
   "execution_count": 26,
   "id": "b06ec74a",
   "metadata": {},
   "outputs": [],
   "source": [
    "driver = webdriver.Chrome('/home/mr/Documents/Web_Scraping_Projects/Scraping Gfurn.com/chromedriver',options=chrome_options)\n",
    "driver.maximize_window()"
   ]
  },
  {
   "cell_type": "code",
   "execution_count": 27,
   "id": "98130cf2",
   "metadata": {},
   "outputs": [
    {
     "name": "stdout",
     "output_type": "stream",
     "text": [
      "2\n"
     ]
    }
   ],
   "source": [
    "Products_links_L = []\n",
    "with open('links.txt','r') as f:\n",
    "    while True:\n",
    "        pro_link = f.readline().strip()\n",
    "        if pro_link:\n",
    "            Products_links_L.append(pro_link)\n",
    "        else:\n",
    "            break\n",
    "Products_links_L = list(dict.fromkeys(Products_links_L))\n",
    "print(len(Products_links_L))"
   ]
  },
  {
   "cell_type": "code",
   "execution_count": 38,
   "id": "c2486b47",
   "metadata": {},
   "outputs": [],
   "source": [
    "def Extracting_Info(pro_link,page_count,count,name):\n",
    "    soup = BeautifulSoup(driver.page_source,'html.parser')\n",
    "    Data = []\n",
    "    product_link = pro_link\n",
    "    count=0\n",
    "    file_name = 'casadil_new' + str(count) + '.csv'\n",
    "    name_of_product = name\n",
    "    for i in range(0,page_count):\n",
    "        \n",
    "        with open(file_name,'a') as f:\n",
    "            thewriter = writer(f)\n",
    "            \n",
    "            try:\n",
    "                main_div = soup.find('div',id = 'stamped-reviews-tab')\n",
    "                divs = main_div.find_all('div',class_ = 'stamped-review')\n",
    "                for i in divs:\n",
    "                    try:\n",
    "                        rate = i.find('span',class_ ='stamped-starratings stamped-review-header-starratings')\n",
    "                        rate_v = rate.get('data-rating')\n",
    "                    except:\n",
    "                        rate_v = 'NULL'\n",
    "                    try:\n",
    "                        author = i.find('strong',class_ ='author')\n",
    "                        author_v = author.text.strip()\n",
    "                    except:\n",
    "                        author_v = 'NULL'\n",
    "                    try:\n",
    "                        date_v = i.find('div',class_ ='created').text.strip()\n",
    "                        \n",
    "                    except:\n",
    "                        date_v = 'NULL'\n",
    "                    try:\n",
    "                        img_m = i.find('a',class_ = 'stamped-review-link-photo')\n",
    "                        img_v = 'https:'+img_m.get('href')\n",
    "                    except:\n",
    "                        img_v = 'NULL'\n",
    "                    try:\n",
    "                        body = i.find('p',class_ = 'stamped-review-content-body')\n",
    "                        body_v = body\n",
    "                    except:\n",
    "                        body_v = 'NULL'\n",
    "                    try:\n",
    "                        body = i.find('h3',class_ = 'stamped-review-header-title')\n",
    "                        title_v = body.text.strip()\n",
    "                    except:\n",
    "                        title_v = 'NULL'\n",
    "                    try:\n",
    "                        body = i.find('div',class_ = 'review-location')\n",
    "                        country_v = body.text.strip()\n",
    "                    except:\n",
    "                        country_v = 'NULL'\n",
    "\n",
    "                    Data = [name_of_product,author_v,title_v,country_v,rate_v,date_v,img_v,body_v,product_link]\n",
    "                    thewriter.writerow(Data)\n",
    "            except:\n",
    "                pass\n",
    "            \n",
    "            btns_m = driver.find_element_by_class_name('stamped-reviews-ul')\n",
    "            btn = btns_m.find_element_by_class_name('next')\n",
    "            btn.click()\n",
    "            time.sleep(10)\n",
    "            soup = BeautifulSoup(driver.page_source,'html.parser')\n",
    "            "
   ]
  },
  {
   "cell_type": "code",
   "execution_count": 39,
   "id": "763d99f6",
   "metadata": {},
   "outputs": [
    {
     "name": "stderr",
     "output_type": "stream",
     "text": [
      "100%|█████████████████████████████████████████████| 2/2 [00:58<00:00, 29.04s/it]\n"
     ]
    }
   ],
   "source": [
    "for i in tqdm(range(0,len(Products_links_get))):\n",
    "    try:\n",
    "        driver.get(Products_links_get[i])\n",
    "        time.sleep(2)\n",
    "        soup = BeautifulSoup(driver.page_source,'html.parser')\n",
    "        try:\n",
    "            page_count = int(soup.find('li',class_ = 'last').find('a').get('data-page'))\n",
    "        except:\n",
    "            page_count = 0\n",
    "        Extracting_Info(Products_links_get[i],page_count,i,Products_links_L[i].split('####')[0])\n",
    "    \n",
    "    except:\n",
    "        with open('Remaining.txt','a') as f:\n",
    "            f.write(Products_links_L[i])\n",
    "            f.write('\\n')\n"
   ]
  }
 ],
 "metadata": {
  "kernelspec": {
   "display_name": "Python 3 (ipykernel)",
   "language": "python",
   "name": "python3"
  },
  "language_info": {
   "codemirror_mode": {
    "name": "ipython",
    "version": 3
   },
   "file_extension": ".py",
   "mimetype": "text/x-python",
   "name": "python",
   "nbconvert_exporter": "python",
   "pygments_lexer": "ipython3",
   "version": "3.9.7"
  }
 },
 "nbformat": 4,
 "nbformat_minor": 5
}
